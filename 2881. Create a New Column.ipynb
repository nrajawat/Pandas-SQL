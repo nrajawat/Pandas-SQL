{
 "cells": [
  {
   "cell_type": "raw",
   "id": "14b86cef-013c-448f-bb72-c7671758268b",
   "metadata": {},
   "source": [
    "DataFrame employees\n",
    "+-------------+--------+\n",
    "| Column Name | Type.  |\n",
    "+-------------+--------+\n",
    "| name        | object |\n",
    "| salary      | int.   |\n",
    "+-------------+--------+\n",
    "\n",
    "A company plans to provide its employees with a bonus.\n",
    "Write a solution to create a new column name bonus that contains the doubled values of the salary column.\n",
    "The result format is in the following example.\n",
    "\n",
    "Example 1:\n",
    "\n",
    "Input:\n",
    "DataFrame employees\n",
    "+---------+--------+\n",
    "| name    | salary |\n",
    "+---------+--------+\n",
    "| Piper   | 4548   |\n",
    "| Grace   | 28150  |\n",
    "| Georgia | 1103   |\n",
    "| Willow  | 6593   |\n",
    "| Finn    | 74576  |\n",
    "| Thomas  | 24433  |\n",
    "+---------+--------+\n",
    "Output:\n",
    "+---------+--------+--------+\n",
    "| name    | salary | bonus  |\n",
    "+---------+--------+--------+\n",
    "| Piper   | 4548   | 9096   |\n",
    "| Grace   | 28150  | 56300  |\n",
    "| Georgia | 1103   | 2206   |\n",
    "| Willow  | 6593   | 13186  |\n",
    "| Finn    | 74576  | 149152 |\n",
    "| Thomas  | 24433  | 48866  |\n",
    "+---------+--------+--------+\n",
    "\n",
    "Explanation: A new column bonus is created by doubling the value in the column salary."
   ]
  },
  {
   "cell_type": "code",
   "execution_count": 1,
   "id": "25b819da-055c-46ab-8a16-e91190a0ee43",
   "metadata": {},
   "outputs": [],
   "source": [
    "import pandas as pd\n",
    "\n",
    "def createBonusColumn(employees: pd.DataFrame) -> pd.DataFrame:\n",
    "\n",
    "    employees['bonus'] = 2 * employees['salary']\n",
    "\n",
    "    return employees\n",
    "\n",
    "    "
   ]
  },
  {
   "cell_type": "code",
   "execution_count": null,
   "id": "ea3a255c-9598-48c4-a0e3-7d5d35a50c9f",
   "metadata": {},
   "outputs": [],
   "source": []
  }
 ],
 "metadata": {
  "kernelspec": {
   "display_name": "Python 3 (ipykernel)",
   "language": "python",
   "name": "python3"
  },
  "language_info": {
   "codemirror_mode": {
    "name": "ipython",
    "version": 3
   },
   "file_extension": ".py",
   "mimetype": "text/x-python",
   "name": "python",
   "nbconvert_exporter": "python",
   "pygments_lexer": "ipython3",
   "version": "3.11.2"
  },
  "widgets": {
   "application/vnd.jupyter.widget-state+json": {
    "state": {},
    "version_major": 2,
    "version_minor": 0
   }
  }
 },
 "nbformat": 4,
 "nbformat_minor": 5
}
