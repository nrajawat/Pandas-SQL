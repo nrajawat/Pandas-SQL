{
 "cells": [
  {
   "cell_type": "raw",
   "id": "8eea232b-cc3b-4917-8800-cdabfbbb764e",
   "metadata": {},
   "source": [
    "DataFrame students\n",
    "+-------------+--------+\n",
    "| Column Name | Type   |\n",
    "+-------------+--------+\n",
    "| student_id  | int    |\n",
    "| name        | object |\n",
    "| age         | int    |\n",
    "+-------------+--------+\n",
    "\n",
    "Write a solution to select the name and age of the student with student_id = 101.\n",
    "The result format is in the following example.\n",
    "\n",
    "Example 1:\n",
    "Input:\n",
    "+------------+---------+-----+\n",
    "| student_id | name    | age |\n",
    "+------------+---------+-----+\n",
    "| 101        | Ulysses | 13  |\n",
    "| 53         | William | 10  |\n",
    "| 128        | Henry   | 6   |\n",
    "| 3          | Henry   | 11  |\n",
    "+------------+---------+-----+\n",
    "Output:\n",
    "+---------+-----+\n",
    "| name    | age | \n",
    "+---------+-----+\n",
    "| Ulysses | 13  |\n",
    "+---------+-----+\n",
    "\n",
    "Explanation: Student Ulysses has student_id = 101, we select the name and age."
   ]
  },
  {
   "cell_type": "code",
   "execution_count": 1,
   "id": "0cd06bcf-47c6-44ea-9b97-33c7b86ebabe",
   "metadata": {},
   "outputs": [],
   "source": [
    "from typing import List\n",
    "import pandas as pd\n",
    "\n",
    "def selectData(students: pd.DataFrame) -> pd.DataFrame:\n",
    "    condition = students[['name', 'age']]\n",
    "\n",
    "    res = condition[students['student_id'] == 101]\n",
    "    return res\n",
    "    "
   ]
  },
  {
   "cell_type": "code",
   "execution_count": null,
   "id": "2a6f9afd-be88-4956-9158-e2da4d45653d",
   "metadata": {},
   "outputs": [],
   "source": []
  }
 ],
 "metadata": {
  "kernelspec": {
   "display_name": "Python 3 (ipykernel)",
   "language": "python",
   "name": "python3"
  },
  "language_info": {
   "codemirror_mode": {
    "name": "ipython",
    "version": 3
   },
   "file_extension": ".py",
   "mimetype": "text/x-python",
   "name": "python",
   "nbconvert_exporter": "python",
   "pygments_lexer": "ipython3",
   "version": "3.11.2"
  },
  "widgets": {
   "application/vnd.jupyter.widget-state+json": {
    "state": {},
    "version_major": 2,
    "version_minor": 0
   }
  }
 },
 "nbformat": 4,
 "nbformat_minor": 5
}
