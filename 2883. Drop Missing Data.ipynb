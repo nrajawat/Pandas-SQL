{
 "cells": [
  {
   "cell_type": "raw",
   "id": "10bba591-19b9-4537-91c1-4da52fa4e0b0",
   "metadata": {},
   "source": [
    "DataFrame students\n",
    "+-------------+--------+\n",
    "| Column Name | Type   |\n",
    "+-------------+--------+\n",
    "| student_id  | int    |\n",
    "| name        | object |\n",
    "| age         | int    |\n",
    "+-------------+--------+\n",
    "\n",
    "There are some rows having missing values in the name column.\n",
    "Write a solution to remove the rows with missing values.\n",
    "The result format is in the following example.\n",
    "\n",
    "Example 1:\n",
    "\n",
    "Input:\n",
    "+------------+---------+-----+\n",
    "| student_id | name    | age |\n",
    "+------------+---------+-----+\n",
    "| 32         | Piper   | 5   |\n",
    "| 217        | None    | 19  |\n",
    "| 779        | Georgia | 20  |\n",
    "| 849        | Willow  | 14  |\n",
    "+------------+---------+-----+\n",
    "Output:\n",
    "+------------+---------+-----+\n",
    "| student_id | name    | age |\n",
    "+------------+---------+-----+\n",
    "| 32         | Piper   | 5   |\n",
    "| 779        | Georgia | 20  | \n",
    "| 849        | Willow  | 14  | \n",
    "+------------+---------+-----+\n",
    "\n",
    "Explanation: Student with id 217 havs empty value in the name column, so it will be removed."
   ]
  },
  {
   "cell_type": "code",
   "execution_count": 1,
   "id": "fc578578-efd7-4b6b-828c-e85aa29af996",
   "metadata": {},
   "outputs": [],
   "source": [
    "import pandas as pd\n",
    "\n",
    "def dropMissingData(students: pd.DataFrame) -> pd.DataFrame:\n",
    "\n",
    "    return students[students['name'].notnull()]\n"
   ]
  },
  {
   "cell_type": "code",
   "execution_count": null,
   "id": "425fffcb-e991-4aa5-a3a9-273053f49489",
   "metadata": {},
   "outputs": [],
   "source": []
  }
 ],
 "metadata": {
  "kernelspec": {
   "display_name": "Python 3 (ipykernel)",
   "language": "python",
   "name": "python3"
  },
  "language_info": {
   "codemirror_mode": {
    "name": "ipython",
    "version": 3
   },
   "file_extension": ".py",
   "mimetype": "text/x-python",
   "name": "python",
   "nbconvert_exporter": "python",
   "pygments_lexer": "ipython3",
   "version": "3.11.2"
  },
  "widgets": {
   "application/vnd.jupyter.widget-state+json": {
    "state": {},
    "version_major": 2,
    "version_minor": 0
   }
  }
 },
 "nbformat": 4,
 "nbformat_minor": 5
}
