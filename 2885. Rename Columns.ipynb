{
 "cells": [
  {
   "cell_type": "raw",
   "id": "29b6bfdf-aa66-4f15-a662-f70735a2bbed",
   "metadata": {},
   "source": [
    "DataFrame students\n",
    "+-------------+--------+\n",
    "| Column Name | Type   |\n",
    "+-------------+--------+\n",
    "| id          | int    |\n",
    "| first       | object |\n",
    "| last        | object |\n",
    "| age         | int    |\n",
    "+-------------+--------+\n",
    "Write a solution to rename the columns as follows:\n",
    "\n",
    "id to student_id\n",
    "first to first_name\n",
    "last to last_name\n",
    "age to age_in_years\n",
    "The result format is in the following example.\n",
    "\n",
    "\n",
    "Example 1:\n",
    "Input:\n",
    "+----+---------+----------+-----+\n",
    "| id | first   | last     | age |\n",
    "+----+---------+----------+-----+\n",
    "| 1  | Mason   | King     | 6   |\n",
    "| 2  | Ava     | Wright   | 7   |\n",
    "| 3  | Taylor  | Hall     | 16  |\n",
    "| 4  | Georgia | Thompson | 18  |\n",
    "| 5  | Thomas  | Moore    | 10  |\n",
    "+----+---------+----------+-----+\n",
    "Output:\n",
    "+------------+------------+-----------+--------------+\n",
    "| student_id | first_name | last_name | age_in_years |\n",
    "+------------+------------+-----------+--------------+\n",
    "| 1          | Mason      | King      | 6            |\n",
    "| 2          | Ava        | Wright    | 7            |\n",
    "| 3          | Taylor     | Hall      | 16           |\n",
    "| 4          | Georgia    | Thompson  | 18           |\n",
    "| 5          | Thomas     | Moore     | 10           |\n",
    "+------------+------------+-----------+--------------+\n",
    "Explanation: \n",
    "The column names are changed accordingly."
   ]
  },
  {
   "cell_type": "code",
   "execution_count": 1,
   "id": "16136a1d-42c0-4570-a89a-52390e630dd7",
   "metadata": {},
   "outputs": [],
   "source": [
    "\n",
    "import pandas as pd\n",
    "\n",
    "def renameColumns(students: pd.DataFrame) -> pd.DataFrame:\n",
    "\n",
    "    students.rename(columns = {'id':'student_id', 'first':'first_name','last':'last_name', 'age':'age_in_years'  }, inplace = True)\n",
    "\n",
    "    return students\n",
    "\n",
    "    "
   ]
  },
  {
   "cell_type": "code",
   "execution_count": null,
   "id": "f4212c0c-3fc6-4dcc-8797-ccb8d55eb062",
   "metadata": {},
   "outputs": [],
   "source": []
  }
 ],
 "metadata": {
  "kernelspec": {
   "display_name": "Python 3 (ipykernel)",
   "language": "python",
   "name": "python3"
  },
  "language_info": {
   "codemirror_mode": {
    "name": "ipython",
    "version": 3
   },
   "file_extension": ".py",
   "mimetype": "text/x-python",
   "name": "python",
   "nbconvert_exporter": "python",
   "pygments_lexer": "ipython3",
   "version": "3.11.2"
  },
  "widgets": {
   "application/vnd.jupyter.widget-state+json": {
    "state": {},
    "version_major": 2,
    "version_minor": 0
   }
  }
 },
 "nbformat": 4,
 "nbformat_minor": 5
}
