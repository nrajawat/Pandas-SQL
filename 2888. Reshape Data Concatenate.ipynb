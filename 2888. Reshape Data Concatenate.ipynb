{
 "cells": [
  {
   "cell_type": "raw",
   "id": "0c86e5a8-da3e-4eae-a1f2-357b12acb1d2",
   "metadata": {},
   "source": [
    "\n",
    "DataFrame df1\n",
    "+-------------+--------+\n",
    "| Column Name | Type   |\n",
    "+-------------+--------+\n",
    "| student_id  | int    |\n",
    "| name        | object |\n",
    "| age         | int    |\n",
    "+-------------+--------+\n",
    "\n",
    "DataFrame df2\n",
    "+-------------+--------+\n",
    "| Column Name | Type   |\n",
    "+-------------+--------+\n",
    "| student_id  | int    |\n",
    "| name        | object |\n",
    "| age         | int    |\n",
    "+-------------+--------+\n",
    "\n",
    "Write a solution to concatenate these two DataFrames vertically into one DataFrame.\n",
    "The result format is in the following example.\n",
    "\n",
    "\n",
    "Example 1:\n",
    "\n",
    "Input:\n",
    "df1\n",
    "+------------+---------+-----+\n",
    "| student_id | name    | age |\n",
    "+------------+---------+-----+\n",
    "| 1          | Mason   | 8   |\n",
    "| 2          | Ava     | 6   |\n",
    "| 3          | Taylor  | 15  |\n",
    "| 4          | Georgia | 17  |\n",
    "+------------+---------+-----+\n",
    "df2\n",
    "+------------+------+-----+\n",
    "| student_id | name | age |\n",
    "+------------+------+-----+\n",
    "| 5          | Leo  | 7   |\n",
    "| 6          | Alex | 7   |\n",
    "+------------+------+-----+\n",
    "Output:\n",
    "+------------+---------+-----+\n",
    "| student_id | name    | age |\n",
    "+------------+---------+-----+\n",
    "| 1          | Mason   | 8   |\n",
    "| 2          | Ava     | 6   |\n",
    "| 3          | Taylor  | 15  |\n",
    "| 4          | Georgia | 17  |\n",
    "| 5          | Leo     | 7   |\n",
    "| 6          | Alex    | 7   |\n",
    "+------------+---------+-----+\n",
    "\n",
    "Explanation:The two DataFramess are stacked vertically, and their rows are combined."
   ]
  },
  {
   "cell_type": "code",
   "execution_count": 1,
   "id": "f98fefef-c6b5-4400-a990-5ddd728b03b9",
   "metadata": {},
   "outputs": [],
   "source": [
    "import pandas as pd\n",
    "\n",
    "def concatenateTables(df1: pd.DataFrame, df2: pd.DataFrame) -> pd.DataFrame:\n",
    "    \n",
    "    concate = pd.concat([df1, df2], ignore_index = True)\n",
    "    return concate\n",
    "\n"
   ]
  },
  {
   "cell_type": "code",
   "execution_count": null,
   "id": "f2970101-68c6-484c-be3e-80bd17dc0eb3",
   "metadata": {},
   "outputs": [],
   "source": []
  }
 ],
 "metadata": {
  "kernelspec": {
   "display_name": "Python 3 (ipykernel)",
   "language": "python",
   "name": "python3"
  },
  "language_info": {
   "codemirror_mode": {
    "name": "ipython",
    "version": 3
   },
   "file_extension": ".py",
   "mimetype": "text/x-python",
   "name": "python",
   "nbconvert_exporter": "python",
   "pygments_lexer": "ipython3",
   "version": "3.11.2"
  },
  "widgets": {
   "application/vnd.jupyter.widget-state+json": {
    "state": {},
    "version_major": 2,
    "version_minor": 0
   }
  }
 },
 "nbformat": 4,
 "nbformat_minor": 5
}
