{
 "cells": [
  {
   "cell_type": "raw",
   "id": "c45f8331-1605-4128-b2a5-d14d39795d25",
   "metadata": {},
   "source": [
    "\n",
    "DataFrame players:\n",
    "+-------------+--------+\n",
    "| Column Name | Type   |\n",
    "+-------------+--------+\n",
    "| player_id   | int    |\n",
    "| name        | object |\n",
    "| age         | int    |\n",
    "| position    | object |\n",
    "| ...         | ...    |\n",
    "+-------------+--------+\n",
    "\n",
    "Write a solution to calculate and display the number of rows and columns of players.\n",
    "Return the result as an array: [number of rows, number of columns]\n",
    "The result format is in the following example.\n",
    "\n",
    "Example 1:\n",
    "\n",
    "Input:\n",
    "+-----------+----------+-----+-------------+--------------------+\n",
    "| player_id | name     | age | position    | team               |\n",
    "+-----------+----------+-----+-------------+--------------------+\n",
    "| 846       | Mason    | 21  | Forward     | RealMadrid         |\n",
    "| 749       | Riley    | 30  | Winger      | Barcelona          |\n",
    "| 155       | Bob      | 28  | Striker     | ManchesterUnited   |\n",
    "| 583       | Isabella | 32  | Goalkeeper  | Liverpool          |\n",
    "| 388       | Zachary  | 24  | Midfielder  | BayernMunich       |\n",
    "| 883       | Ava      | 23  | Defender    | Chelsea            |\n",
    "| 355       | Violet   | 18  | Striker     | Juventus           |\n",
    "| 247       | Thomas   | 27  | Striker     | ParisSaint-Germain |\n",
    "| 761       | Jack     | 33  | Midfielder  | ManchesterCity     |\n",
    "| 642       | Charlie  | 36  | Center-back | Arsenal            |\n",
    "+-----------+----------+-----+-------------+--------------------+\n",
    "\n",
    "Output:\n",
    "[10, 5]\n",
    "Explanation: This DataFrame contains 10 rows and 5 columns."
   ]
  },
  {
   "cell_type": "code",
   "execution_count": 3,
   "id": "70e1265c-661a-49da-856d-af01e3c3a1eb",
   "metadata": {},
   "outputs": [],
   "source": [
    "from typing import List\n",
    "import pandas as pd\n",
    "\n",
    "def getDataframeSize(players: pd.DataFrame) -> List[int]:\n",
    "\n",
    "    num_row, num_col = players.shape\n",
    "    \n",
    "    return [num_row,num_col]"
   ]
  },
  {
   "cell_type": "raw",
   "id": "72cbaa4b-3480-4d15-8aaa-d0f13f0d4a6f",
   "metadata": {},
   "source": []
  }
 ],
 "metadata": {
  "kernelspec": {
   "display_name": "Python 3 (ipykernel)",
   "language": "python",
   "name": "python3"
  },
  "language_info": {
   "codemirror_mode": {
    "name": "ipython",
    "version": 3
   },
   "file_extension": ".py",
   "mimetype": "text/x-python",
   "name": "python",
   "nbconvert_exporter": "python",
   "pygments_lexer": "ipython3",
   "version": "3.11.2"
  },
  "widgets": {
   "application/vnd.jupyter.widget-state+json": {
    "state": {},
    "version_major": 2,
    "version_minor": 0
   }
  }
 },
 "nbformat": 4,
 "nbformat_minor": 5
}
