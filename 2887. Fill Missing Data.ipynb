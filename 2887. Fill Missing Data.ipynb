{
 "cells": [
  {
   "cell_type": "raw",
   "id": "3c2bd670-70db-4f39-88a4-df6a288b86d6",
   "metadata": {},
   "source": [
    "DataFrame products\n",
    "+-------------+--------+\n",
    "| Column Name | Type   |\n",
    "+-------------+--------+\n",
    "| name        | object |\n",
    "| quantity    | int    |\n",
    "| price       | int    |\n",
    "+-------------+--------+\n",
    "\n",
    "Write a solution to fill in the missing value as 0 in the quantity column.\n",
    "The result format is in the following example.\n",
    "\n",
    " \n",
    "\n",
    "Example 1:\n",
    "Input:+-----------------+----------+-------+\n",
    "| name            | quantity | price |\n",
    "+-----------------+----------+-------+\n",
    "| Wristwatch      | None     | 135   |\n",
    "| WirelessEarbuds | None     | 821   |\n",
    "| GolfClubs       | 779      | 9319  |\n",
    "| Printer         | 849      | 3051  |\n",
    "+-----------------+----------+-------+\n",
    "Output:\n",
    "+-----------------+----------+-------+\n",
    "| name            | quantity | price |\n",
    "+-----------------+----------+-------+\n",
    "| Wristwatch      | 0        | 135   |\n",
    "| WirelessEarbuds | 0        | 821   |\n",
    "| GolfClubs       | 779      | 9319  |\n",
    "| Printer         | 849      | 3051  |\n",
    "+-----------------+----------+-------+\n",
    "Explanation: \n",
    "The quantity for Wristwatch and WirelessEarbuds are filled by 0."
   ]
  },
  {
   "cell_type": "code",
   "execution_count": 1,
   "id": "6f617072-a555-4187-837c-6a08d69fbdcc",
   "metadata": {},
   "outputs": [],
   "source": [
    "import pandas as pd\n",
    "\n",
    "def fillMissingValues(products: pd.DataFrame) -> pd.DataFrame:\n",
    "\n",
    "    products['quantity'].fillna(0, inplace = True)\n",
    "    return products\n",
    "    "
   ]
  },
  {
   "cell_type": "code",
   "execution_count": null,
   "id": "f7d48d88-4e81-4ae9-b50c-14928fa387e1",
   "metadata": {},
   "outputs": [],
   "source": []
  }
 ],
 "metadata": {
  "kernelspec": {
   "display_name": "Python 3 (ipykernel)",
   "language": "python",
   "name": "python3"
  },
  "language_info": {
   "codemirror_mode": {
    "name": "ipython",
    "version": 3
   },
   "file_extension": ".py",
   "mimetype": "text/x-python",
   "name": "python",
   "nbconvert_exporter": "python",
   "pygments_lexer": "ipython3",
   "version": "3.11.2"
  },
  "widgets": {
   "application/vnd.jupyter.widget-state+json": {
    "state": {},
    "version_major": 2,
    "version_minor": 0
   }
  }
 },
 "nbformat": 4,
 "nbformat_minor": 5
}
