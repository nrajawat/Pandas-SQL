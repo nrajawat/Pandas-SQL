{
 "cells": [
  {
   "cell_type": "raw",
   "id": "051d4151-7a8b-49ac-9195-b9b6013c51e2",
   "metadata": {},
   "source": [
    "DataFrame customers\n",
    "+-------------+--------+\n",
    "| Column Name | Type   |\n",
    "+-------------+--------+\n",
    "| customer_id | int    |\n",
    "| name        | object |\n",
    "| email       | object |\n",
    "+-------------+--------+\n",
    "\n",
    "There are some duplicate rows in the DataFrame based on the email column.\n",
    "Write a solution to remove these duplicate rows and keep only the first occurrence.\n",
    "The result format is in the following example.\n",
    "\n",
    "Example 1: \n",
    "\n",
    "Input:\n",
    "+-------------+---------+---------------------+\n",
    "| customer_id | name    | email               |\n",
    "+-------------+---------+---------------------+\n",
    "| 1           | Ella    | emily@example.com   |\n",
    "| 2           | David   | michael@example.com |\n",
    "| 3           | Zachary | sarah@example.com   |\n",
    "| 4           | Alice   | john@example.com    |\n",
    "| 5           | Finn    | john@example.com    |\n",
    "| 6           | Violet  | alice@example.com   |\n",
    "+-------------+---------+---------------------+\n",
    "Output:  \n",
    "+-------------+---------+---------------------+\n",
    "| customer_id | name    | email               |\n",
    "+-------------+---------+---------------------+\n",
    "| 1           | Ella    | emily@example.com   |\n",
    "| 2           | David   | michael@example.com |\n",
    "| 3           | Zachary | sarah@example.com   |\n",
    "| 4           | Alice   | john@example.com    |\n",
    "| 6           | Violet  | alice@example.com   |\n",
    "+-------------+---------+---------------------+\n",
    "Explanation:\n",
    "Alic (customer_id = 4) and Finn (customer_id = 5) both use john@example.com, so only the first occurrence of this email is retained."
   ]
  },
  {
   "cell_type": "code",
   "execution_count": 1,
   "id": "07aa67dd-51fe-4385-8534-3681226cff75",
   "metadata": {},
   "outputs": [],
   "source": [
    "import pandas as pd\n",
    "\n",
    "def dropDuplicateEmails(customers: pd.DataFrame) -> pd.DataFrame:\n",
    "\n",
    "    dd = customers.drop_duplicates(subset= ['email'])\n",
    "    return dd\n",
    "    "
   ]
  },
  {
   "cell_type": "code",
   "execution_count": null,
   "id": "f83d7edb-745b-4ecf-bc6a-7e5b710d7376",
   "metadata": {},
   "outputs": [],
   "source": []
  }
 ],
 "metadata": {
  "kernelspec": {
   "display_name": "Python 3 (ipykernel)",
   "language": "python",
   "name": "python3"
  },
  "language_info": {
   "codemirror_mode": {
    "name": "ipython",
    "version": 3
   },
   "file_extension": ".py",
   "mimetype": "text/x-python",
   "name": "python",
   "nbconvert_exporter": "python",
   "pygments_lexer": "ipython3",
   "version": "3.11.2"
  },
  "widgets": {
   "application/vnd.jupyter.widget-state+json": {
    "state": {},
    "version_major": 2,
    "version_minor": 0
   }
  }
 },
 "nbformat": 4,
 "nbformat_minor": 5
}
