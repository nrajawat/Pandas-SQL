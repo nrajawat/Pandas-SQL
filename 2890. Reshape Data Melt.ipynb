{
 "cells": [
  {
   "cell_type": "raw",
   "id": "dc2d0481-8008-42ce-a7cc-4a5ffd45a3ee",
   "metadata": {},
   "source": [
    "DataFrame report\n",
    "+-------------+--------+\n",
    "| Column Name | Type   |\n",
    "+-------------+--------+\n",
    "| product     | object |\n",
    "| quarter_1   | int    |\n",
    "| quarter_2   | int    |\n",
    "| quarter_3   | int    |\n",
    "| quarter_4   | int    |\n",
    "+-------------+--------+\n",
    "\n",
    "Write a solution to reshape the data so that each row represents sales data for a product in a specific quarter.\n",
    "The result format is in the following example.\n",
    "\n",
    "Example 1:\n",
    "\n",
    "Input:\n",
    "+-------------+-----------+-----------+-----------+-----------+\n",
    "| product     | quarter_1 | quarter_2 | quarter_3 | quarter_4 |\n",
    "+-------------+-----------+-----------+-----------+-----------+\n",
    "| Umbrella    | 417       | 224       | 379       | 611       |\n",
    "| SleepingBag | 800       | 936       | 93        | 875       |\n",
    "+-------------+-----------+-----------+-----------+-----------+\n",
    "Output:\n",
    "+-------------+-----------+-------+\n",
    "| product     | quarter   | sales |\n",
    "+-------------+-----------+-------+\n",
    "| Umbrella    | quarter_1 | 417   |\n",
    "| SleepingBag | quarter_1 | 800   |\n",
    "| Umbrella    | quarter_2 | 224   |\n",
    "| SleepingBag | quarter_2 | 936   |\n",
    "| Umbrella    | quarter_3 | 379   |\n",
    "| SleepingBag | quarter_3 | 93    |\n",
    "| Umbrella    | quarter_4 | 611   |\n",
    "| SleepingBag | quarter_4 | 875   |\n",
    "+-------------+-----------+-------+\n",
    "\n",
    "Explanation:\n",
    "The DataFrame is reshaped from wide to long format. Each row represents the sales of a product in a quarter."
   ]
  },
  {
   "cell_type": "code",
   "execution_count": 1,
   "id": "6d715c89-11e5-46ba-a45c-58bb28f435a1",
   "metadata": {},
   "outputs": [],
   "source": [
    "import pandas as pd\n",
    "\n",
    "def meltTable(report: pd.DataFrame) -> pd.DataFrame:\n",
    "\n",
    "    melted_df = pd.melt(report, id_vars=['product'], var_name='quarter', value_name='sales')\n",
    "    return melted_df\n"
   ]
  },
  {
   "cell_type": "code",
   "execution_count": null,
   "id": "74c20769-ef17-4e92-bc04-f6495ac778ba",
   "metadata": {},
   "outputs": [],
   "source": []
  }
 ],
 "metadata": {
  "kernelspec": {
   "display_name": "Python 3 (ipykernel)",
   "language": "python",
   "name": "python3"
  },
  "language_info": {
   "codemirror_mode": {
    "name": "ipython",
    "version": 3
   },
   "file_extension": ".py",
   "mimetype": "text/x-python",
   "name": "python",
   "nbconvert_exporter": "python",
   "pygments_lexer": "ipython3",
   "version": "3.11.2"
  },
  "widgets": {
   "application/vnd.jupyter.widget-state+json": {
    "state": {},
    "version_major": 2,
    "version_minor": 0
   }
  }
 },
 "nbformat": 4,
 "nbformat_minor": 5
}
