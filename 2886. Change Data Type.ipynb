{
 "cells": [
  {
   "cell_type": "raw",
   "id": "118eeda5-f23a-43e0-bfdd-6f48368d4887",
   "metadata": {},
   "source": [
    "\n",
    "DataFrame students\n",
    "+-------------+--------+\n",
    "| Column Name | Type   |\n",
    "+-------------+--------+\n",
    "| student_id  | int    |\n",
    "| name        | object |\n",
    "| age         | int    |\n",
    "| grade       | float  |\n",
    "+-------------+--------+\n",
    "\n",
    "Write a solution to correct the errors:\n",
    "The grade column is stored as floats, convert it to integers.\n",
    "The result format is in the following example.\n",
    "\n",
    " \n",
    "Example 1:\n",
    "Input:\n",
    "DataFrame students:\n",
    "+------------+------+-----+-------+\n",
    "| student_id | name | age | grade |\n",
    "+------------+------+-----+-------+\n",
    "| 1          | Ava  | 6   | 73.0  |\n",
    "| 2          | Kate | 15  | 87.0  |\n",
    "+------------+------+-----+-------+\n",
    "Output:\n",
    "+------------+------+-----+-------+\n",
    "| student_id | name | age | grade |\n",
    "+------------+------+-----+-------+\n",
    "| 1          | Ava  | 6   | 73    |\n",
    "| 2          | Kate | 15  | 87    |\n",
    "+------------+------+-----+-------+\n",
    "\n",
    "Explanation: \n",
    "The data types of the column grade is converted to int.\n"
   ]
  },
  {
   "cell_type": "code",
   "execution_count": 1,
   "id": "ae77b1d6-d3e6-4154-b859-8298b1aa289c",
   "metadata": {},
   "outputs": [],
   "source": [
    "import pandas as pd\n",
    "\n",
    "def changeDatatype(students: pd.DataFrame) -> pd.DataFrame:\n",
    "    \n",
    "    students['grade'] = students['grade'].astype(int)\n",
    "\n",
    "    return students"
   ]
  },
  {
   "cell_type": "code",
   "execution_count": null,
   "id": "e5cca85f-dc96-4fd7-9cba-d35fc34724f8",
   "metadata": {},
   "outputs": [],
   "source": []
  }
 ],
 "metadata": {
  "kernelspec": {
   "display_name": "Python 3 (ipykernel)",
   "language": "python",
   "name": "python3"
  },
  "language_info": {
   "codemirror_mode": {
    "name": "ipython",
    "version": 3
   },
   "file_extension": ".py",
   "mimetype": "text/x-python",
   "name": "python",
   "nbconvert_exporter": "python",
   "pygments_lexer": "ipython3",
   "version": "3.11.2"
  },
  "widgets": {
   "application/vnd.jupyter.widget-state+json": {
    "state": {},
    "version_major": 2,
    "version_minor": 0
   }
  }
 },
 "nbformat": 4,
 "nbformat_minor": 5
}
